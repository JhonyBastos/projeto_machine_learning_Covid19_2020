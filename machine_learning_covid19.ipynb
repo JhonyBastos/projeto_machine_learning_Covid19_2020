{
 "cells": [
  {
   "cell_type": "markdown",
   "metadata": {
    "id": "oMephX4Ye7Jf"
   },
   "source": [
    "# Projeto Covid-19\n",
    "Projeto com intensão de analisar e apresentar os dados sobre a covid19 no ano de 2020."
   ]
  },
  {
   "cell_type": "code",
   "execution_count": null,
   "metadata": {
    "id": "40PdZyZzWO0P"
   },
   "outputs": [],
   "source": [
    "#importando as bibliotecas \n",
    "import pandas as pd\n",
    "import numpy as np\n",
    "import re\n",
    "from datetime import datetime\n",
    "import plotly.express as px\n",
    "import plotly.graph_objects as go\n",
    "import matplotlib.pyplot as plt\n",
    "plt.style.use('seaborn')\n",
    "#bibliotecas utilizadas na predição\n",
    "from statsmodels.tsa.seasonal import seasonal_decompose"
   ]
  },
  {
   "cell_type": "code",
   "execution_count": null,
   "metadata": {
    "id": "UVD681YZXCGv"
   },
   "outputs": [],
   "source": [
    "#fazer upload do arquivo para o ambiente COLAB\n",
    "from google.colab import files\n",
    "arq = files.upload()"
   ]
  },
  {
   "cell_type": "code",
   "execution_count": null,
   "metadata": {
    "id": "QSdbXf_zYuNe"
   },
   "outputs": [],
   "source": [
    "#Utilizando o 'parse_update' para já especificar as colunas que terão o fomato de data\n",
    "df = pd.read_csv('covid_19_data.csv', parse_dates=['ObservationDate', 'Last Update'])\n",
    "df.head()"
   ]
  },
  {
   "cell_type": "code",
   "execution_count": null,
   "metadata": {
    "id": "K0Bk_EODcse4"
   },
   "outputs": [],
   "source": [
    "#verificando os tipos de cada coluna\n",
    "df.dtypes"
   ]
  },
  {
   "cell_type": "code",
   "execution_count": null,
   "metadata": {
    "id": "GzC8NT7xr4Ca"
   },
   "outputs": [],
   "source": [
    "#criando uma expressão regular utilizando o biblioteca 're' para corrigir os nomes das colunas\n",
    "def corrige_colunas(col_name):\n",
    "  return re.sub(r'[/| ]', '_', col_name).lower()"
   ]
  },
  {
   "cell_type": "code",
   "execution_count": null,
   "metadata": {
    "id": "lR2FcV95vSsS"
   },
   "outputs": [],
   "source": [
    "#chamando a função para corrigir os nomes das colunas\n",
    "df.columns = [corrige_colunas(col) for col in df.columns] #chamar a função para cada coluna contida no dataFrame\n",
    "df.rename(columns={'observationdate': 'observation_date'}, inplace = True) #alterando coluna que não se encaixa no padrão da função\n",
    "df.head()"
   ]
  },
  {
   "cell_type": "markdown",
   "metadata": {
    "id": "EAfh5vcE4w5m"
   },
   "source": [
    "## **Selecionando os dados brasileiros**\n",
    "\n",
    "Criando um subset somente com os dados da Covid-19 no território brasileiro."
   ]
  },
  {
   "cell_type": "code",
   "execution_count": null,
   "metadata": {
    "id": "PWsn40-g5XgI"
   },
   "outputs": [],
   "source": [
    "#conhecendo os países contidos no dataframe\n",
    "df.country_region.unique()"
   ]
  },
  {
   "cell_type": "code",
   "execution_count": null,
   "metadata": {
    "id": "RaLx5XZtwaJc"
   },
   "outputs": [],
   "source": [
    "# apresentando a filtragem por país\n",
    "df.loc[df.country_region == 'Brazil']"
   ]
  },
  {
   "cell_type": "code",
   "execution_count": null,
   "metadata": {
    "id": "6bO0OiUY6Lm3"
   },
   "outputs": [],
   "source": [
    "#selecionando os dados filtrados por pais e qtde de casos\n",
    "brasil = df.loc[\n",
    "    (df.country_region == 'Brazil') & \n",
    "    (df.confirmed > 0)\n",
    "]\n",
    "brasil.head()"
   ]
  },
  {
   "cell_type": "markdown",
   "metadata": {
    "id": "V3mPk-nN-ErP"
   },
   "source": [
    "### **Analisando dados confirmados**\n"
   ]
  },
  {
   "cell_type": "code",
   "execution_count": null,
   "metadata": {
    "id": "2b05P3R492w7"
   },
   "outputs": [],
   "source": [
    "#apresentando a evolução dos casos confirmados em um gráfico de linha\n",
    "px.line(brasil, 'observation_date', 'confirmed', title='Casos confirmados no Brasil')"
   ]
  },
  {
   "cell_type": "markdown",
   "metadata": {
    "id": "frUH5qSFdJQk"
   },
   "source": [
    "### **Calculando os casos por dia**\n",
    "\n",
    "Calculando o crescimento de casos diarios atrvés de programação funcional.\n",
    "\n",
    "- Obs.: loc localiza os objetos pelo nome.\n",
    "- Obs.2: iloc localiza os objetos pelo índice."
   ]
  },
  {
   "cell_type": "code",
   "execution_count": null,
   "metadata": {
    "id": "LfzlEcWy-20l"
   },
   "outputs": [],
   "source": [
    "brasil['novos_casos'] = list(map(\n",
    "    lambda x: 0 if (x == 0) else brasil['confirmed'].iloc[x] - brasil['confirmed'].iloc[x-1],\n",
    "    np.arange(brasil.shape[0])\n",
    "))"
   ]
  },
  {
   "cell_type": "code",
   "execution_count": null,
   "metadata": {
    "id": "unFINRigjM9S"
   },
   "outputs": [],
   "source": [
    "px.line(brasil, x='observation_date', y='novos_casos', title='Novos casos por Dia')"
   ]
  },
  {
   "cell_type": "markdown",
   "metadata": {
    "id": "bkKfenbamoF7"
   },
   "source": [
    "### **Calculado a quantidade de mortes**"
   ]
  },
  {
   "cell_type": "code",
   "execution_count": null,
   "metadata": {
    "id": "wTNT4J5ZjRM1"
   },
   "outputs": [],
   "source": [
    "#plotando os numero de mortes com gráfico visial\n",
    "fig = go.Figure()\n",
    "\n",
    "fig.add_trace(\n",
    "    go.Scatter(\n",
    "        x=brasil.observation_date, \n",
    "        y=brasil.deaths, \n",
    "        name='Mortes', \n",
    "        mode='lines+markers', \n",
    "        line={'color':'red'}\n",
    "    )\n",
    ")\n",
    "\n",
    "#modificando layout do grafico\n",
    "fig.update_layout(title='Mortes por Covid-19 no Brasil')\n",
    "fig.show()"
   ]
  },
  {
   "cell_type": "markdown",
   "metadata": {
    "id": "fpvS9OkDyGqT"
   },
   "source": [
    "### **Calculando taxa de crescimento**"
   ]
  },
  {
   "cell_type": "code",
   "execution_count": null,
   "metadata": {
    "id": "W4zGYk46odd7"
   },
   "outputs": [],
   "source": [
    "#taxa de crescimento geral de todo o periodo\n",
    "def taxa_crescimento(dataframe, variavel, data_inicio=None, data_fim=None):\n",
    "    #definindo o valores de inicio das datas\n",
    "    if data_inicio == None:\n",
    "        data_inicio = dataframe.observation_date.loc[dataframe[variavel] > 0].min()\n",
    "    else:\n",
    "        data_inicio = pd.to_datetime(data_inicio)\n",
    "        \n",
    "    if data_fim == None:\n",
    "        data_fim = dataframe.observation_date.iloc[-1]\n",
    "    else:\n",
    "        data_fim = pd.to_datetime(data_fim)\n",
    "    \n",
    "    #definindo os valores de passado e presente\n",
    "    passado = dataframe.loc[dataframe.observation_date == data_inicio, variavel].values[0]\n",
    "    presente = dataframe.loc[dataframe.observation_date == data_fim, variavel].values[0]\n",
    "    \n",
    "    #definindo o numero de pontos temporais a serem avaliados\n",
    "    n = (data_fim - data_inicio).days\n",
    "    \n",
    "    #calculando a taxa de crescimento\n",
    "    taxa = (presente/passado)**(1/n) - 1\n",
    "\n",
    "    return taxa*100\n",
    "\n",
    "#apresentando a taxa de crescimento médio do Covid-19 no Brasil\n",
    "taxa_crescimento(brasil, 'confirmed')"
   ]
  },
  {
   "cell_type": "code",
   "execution_count": null,
   "metadata": {
    "id": "s6jWJQG_27to"
   },
   "outputs": [],
   "source": [
    "#calculando a taxa de crescimento diário\n",
    "def taxa_crescimento_diaria(dataframe, variavel, data_inicio=None):\n",
    "  #definindo o valores de inicio das datas\n",
    "    if data_inicio == None:\n",
    "        data_inicio = dataframe.observation_date.loc[dataframe[variavel] > 0].min()\n",
    "    else:\n",
    "        data_inicio = pd.to_datetime(data_inicio)\n",
    "    \n",
    "    data_fim = dataframe.observation_date.max()\n",
    "\n",
    "    #definindo o numero de pontos temporais a serem avaliados\n",
    "    n = (data_fim - data_inicio).days\n",
    "\n",
    "    #calculando a taxa diaria\n",
    "    #prepresentação da função: (hoje - ontem) / ontem\n",
    "    taxas = list(map(\n",
    "        lambda x: (dataframe[variavel].iloc[x] - dataframe[variavel].iloc[x-1]) / dataframe[variavel].iloc[x-1],\n",
    "        range(1,n+1)\n",
    "    ))\n",
    "\n",
    "    return np.array(taxas) * 100\n",
    "\n",
    "taxa_diaria = taxa_crescimento_diaria(brasil, 'confirmed')\n",
    "taxa_diaria"
   ]
  },
  {
   "cell_type": "code",
   "execution_count": null,
   "metadata": {
    "id": "MqOn9-JJm2ER"
   },
   "outputs": [],
   "source": [
    "#plotando dados graficamente\n",
    "primeiro_dia = brasil.observation_date.loc[brasil.confirmed > 0].min()\n",
    "\n",
    "px.line(x=pd.date_range(primeiro_dia, brasil.observation_date.max())[1:],\n",
    "        y=taxa_diaria,\n",
    "        title='Taxa de crescimento de casos confirmados no Brasil')"
   ]
  },
  {
   "cell_type": "markdown",
   "metadata": {
    "id": "szlbb1CzqVXb"
   },
   "source": [
    "### **Modelos de Predições**"
   ]
  },
  {
   "cell_type": "code",
   "execution_count": null,
   "metadata": {
    "id": "CezV6OOnoeKr"
   },
   "outputs": [],
   "source": [
    "#criando um novo dataframe somente com os casos confirmados e definindo a data com indice\n",
    "casos_confirmados = brasil.confirmed\n",
    "casos_confirmados.index = brasil.observation_date\n",
    "\n",
    "#fazendo a deconposição dos dados confirmados\n",
    "res = seasonal_decompose(casos_confirmados)"
   ]
  },
  {
   "cell_type": "code",
   "execution_count": null,
   "metadata": {
    "id": "5YDFTow-suUk"
   },
   "outputs": [],
   "source": [
    "#plotando os valores em 4 gráficos unidos em uma única figura\n",
    "fig, (ax1, ax2, ax3, ax4) = plt.subplots(4, 1, figsize=(10,8))\n",
    "\n",
    "ax1.plot(res.observed) #valores observados\n",
    "ax2.plot(res.trend) #tedência\n",
    "ax3.plot(res.seasonal) #sazonalidade\n",
    "ax4.plot(casos_confirmados.index, res.resid) #ruído\n",
    "ax4.axhline(0, linestyle='dashed', c='black')\n",
    "plt.show()"
   ]
  },
  {
   "cell_type": "markdown",
   "metadata": {
    "id": "Hqgfx6oF0YUo"
   },
   "source": [
    "## **Modelando os dados utilizando a biblioteca ARIMA**\n",
    "\n",
    "Aplicando a metodologia de modelar o futuro como função do passado.\n"
   ]
  },
  {
   "cell_type": "code",
   "execution_count": null,
   "metadata": {
    "id": "YvriiwclvGas"
   },
   "outputs": [],
   "source": [
    "#instalando a biblioteca, pois a mesma não consta na base do COLAB\n",
    "!pip install pmdarima"
   ]
  },
  {
   "cell_type": "code",
   "execution_count": null,
   "metadata": {
    "id": "HqCEzjd22UYt"
   },
   "outputs": [],
   "source": [
    "from pmdarima.arima import auto_arima\n",
    "modelo = auto_arima(casos_confirmados)"
   ]
  },
  {
   "cell_type": "code",
   "execution_count": null,
   "metadata": {
    "id": "DfA02W8p3H_T"
   },
   "outputs": [],
   "source": [
    "#apresentando os dados modelados com a melhor esturura do arima\n",
    "fig = go.Figure(go.Scatter(\n",
    "    x=casos_confirmados.index,\n",
    "    y=casos_confirmados,\n",
    "    name='Observados'\n",
    "))\n",
    "\n",
    "fig.add_trace(go.Scatter(\n",
    "    x=casos_confirmados.index,\n",
    "    y=modelo.predict_in_sample(),\n",
    "    name='Preditos'\n",
    "))\n",
    "\n",
    "fig.add_trace(go.Scatter(\n",
    "    x=pd.date_range('2020-05-20', '2020-06-20'),\n",
    "    y=modelo.predict(31),\n",
    "    name='Forecast'\n",
    "))\n",
    "\n",
    "fig.update_layout(title='Previsaão de casos confirmados nos Brasil para os próximos 30 dias.')\n",
    "fig.show()"
   ]
  },
  {
   "cell_type": "markdown",
   "metadata": {
    "id": "lUWJxURtpu7N"
   },
   "source": [
    "## **Modelo de crescimento com a biblioteca fbpropht**\n",
    "Metodologia do modelo de crescimento que visa prever o ponto de virada.\n",
    "- é necessário passar por um pré processamento nos dados antes de se utilizar."
   ]
  },
  {
   "cell_type": "code",
   "execution_count": null,
   "metadata": {
    "id": "vLZZezo15DHS"
   },
   "outputs": [],
   "source": [
    "#importando a biblioteco do anaconda\n",
    "!conda install -c conda-forge fbpropht -y"
   ]
  },
  {
   "cell_type": "code",
   "execution_count": null,
   "metadata": {
    "id": "Qx_sHS5otOkj"
   },
   "outputs": [],
   "source": [
    "from fbprophet import Prophet"
   ]
  },
  {
   "cell_type": "code",
   "execution_count": null,
   "metadata": {
    "id": "rjCpkaG6u8_b"
   },
   "outputs": [],
   "source": [
    "# pré processamentos\n",
    "\n",
    "treinamento = casos_confirmados.reset_index()[:-5] #base para treinar o modelo\n",
    "teste = casos_confirmados.reset_index()[-5:] #pegando os ultimos dados para teste\n",
    "\n",
    "#renomeando as colunas:\n",
    "treinamento.rename(columns={'observation_date':'ds', 'confirmed':'y'}, inplace=True)\n",
    "teste.rename(columns={'observation_date':'ds', 'confirmed':'y'}, inplace=True)\n",
    "\n",
    "#definindo modelo de crescimento:\n",
    "profeta = Prophet(growth='logistic', changepoints=['2020-03-21', '2020-03-30', '2020-04-25', '2020-05-03', '2020-05-10'])\n",
    "\n",
    "#montando um cenário com ponto máximo de toda a população sendo contaminada:\n",
    "populacao = 211463256\n",
    "treinamento['cap'] = populacao\n",
    "\n",
    "#treinando o modelo:\n",
    "profeta.fit(treinamento)\n",
    "\n",
    "#construindo as previsões com base no cenário:\n",
    "# Construindo previsões para o futuro\n",
    "future_dates = profeta.make_future_dataframe(periods=200)\n",
    "future_dates['cap'] = populacao\n",
    "forecast =  profeta.predict(future_dates)\n"
   ]
  },
  {
   "cell_type": "code",
   "execution_count": null,
   "metadata": {
    "id": "RgsX4bxibbRo"
   },
   "outputs": [],
   "source": [
    "#apresentação da análise no cenário escolhido\n",
    "fig = go.Figure()\n",
    "\n",
    "fig.add_trace(go.Scatter(x=forecast.ds, y=forecast.yhat, name='Predição'))\n",
    "fig.add_trace(go.Scatter(x=treinamento.index, y=treinamento, name='Observados - Teste'))\n",
    "fig.add_trace(go.Scatter(x=treinamento.ds, y=treinamento.y, name='Observados - Treino'))\n",
    "fig.update_layout(title='Predições de casos confirmados no Brasil')\n",
    "fig.show()"
   ]
  }
 ],
 "metadata": {
  "colab": {
   "provenance": []
  },
  "kernelspec": {
   "display_name": "Python 3 (ipykernel)",
   "language": "python",
   "name": "python3"
  },
  "language_info": {
   "codemirror_mode": {
    "name": "ipython",
    "version": 3
   },
   "file_extension": ".py",
   "mimetype": "text/x-python",
   "name": "python",
   "nbconvert_exporter": "python",
   "pygments_lexer": "ipython3",
   "version": "3.8.10"
  }
 },
 "nbformat": 4,
 "nbformat_minor": 1
}
